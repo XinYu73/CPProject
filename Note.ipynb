{
 "cells": [
  {
   "cell_type": "markdown",
   "metadata": {},
   "source": [
    "$$Note-For-This-Project$$"
   ]
  },
  {
   "cell_type": "markdown",
   "metadata": {},
   "source": [
    "$AlgebraMethod:$\n",
    "$$\n",
    "\\begin{aligned}\n",
    "&E_{x}=\\frac{M_{z}}{4 \\pi} i \\omega \\mu_{0} \\frac{y e^{i k r}}{r^{3}}(i k r-1) \\\\\n",
    "&E_{y}=-\\frac{M_{z}}{4 \\pi} i \\omega \\mu_{0} \\frac{x e^{i b r}}{r^{3}}(i k r-1) \\\\\n",
    "&E_{z}=0\n",
    "\\end{aligned}\n",
    "$$\n",
    "$$\n",
    "H_{x}=-\\frac{M_{z} x z e^{i k r}}{4 \\pi}\\left[\\frac{k^{2}}{r^{3}}+\\frac{3 i k}{r^{4}}-\\frac{3}{r^{5}}\\right]\n",
    "$$\n",
    "$$\n",
    "\\begin{aligned}\n",
    "&H_{y}=-\\frac{M_{z} y z e^{i k r}}{4 \\pi}\\left[\\frac{k^{2}}{r^{3}}+\\frac{3 i k}{r^{4}}-\\frac{3}{r^{5}}\\right]\\\\\n",
    "&H_{z}=\\frac{M_{z} e^{i k r}}{4 \\pi r}\\left[k^{2}+\\frac{i k}{r}-\\frac{k^{2} z^{2}+1}{r^{2}}-\\frac{3 i k z^{2}}{r^{3}}+\\frac{3 z^{2}}{r^{4}}\\right]\n",
    "\\end{aligned}\n",
    "$$\n",
    "$$k=\\sqrt{i\\omega \\mu \\sigma}$$\n",
    "\n",
    "$\\mu = 4 \\pi 10^{-7},\\sigma=0.1,M_z=1,f=20K,Position=(0.5,0,1)$"
   ]
  }
 ],
 "metadata": {
  "language_info": {
   "name": "python"
  },
  "orig_nbformat": 4
 },
 "nbformat": 4,
 "nbformat_minor": 2
}

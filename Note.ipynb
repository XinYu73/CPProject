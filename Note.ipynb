{
 "cells": [
  {
   "cell_type": "markdown",
   "metadata": {},
   "source": [
    "$$Note-For-This-Project$$"
   ]
  },
  {
   "cell_type": "markdown",
   "metadata": {},
   "source": [
    "$AlgebraMethod:$\n",
    "$$\n",
    "\\begin{aligned}\n",
    "&E_{x}=\\frac{M_{z}}{4 \\pi} i \\omega \\mu_{0} \\frac{y e^{i k r}}{r^{3}}(i k r-1) \\\\\n",
    "&E_{y}=-\\frac{M_{z}}{4 \\pi} i \\omega \\mu_{0} \\frac{x e^{i b r}}{r^{3}}(i k r-1) \\\\\n",
    "&E_{z}=0\n",
    "\\end{aligned}\n",
    "$$\n",
    "$$\n",
    "H_{x}=-\\frac{M_{z} x z e^{i k r}}{4 \\pi}\\left[\\frac{k^{2}}{r^{3}}+\\frac{3 i k}{r^{4}}-\\frac{3}{r^{5}}\\right]\n",
    "$$\n",
    "$$\n",
    "\\begin{aligned}\n",
    "&H_{y}=-\\frac{M_{z} y z e^{i k r}}{4 \\pi}\\left[\\frac{k^{2}}{r^{3}}+\\frac{3 i k}{r^{4}}-\\frac{3}{r^{5}}\\right]\\\\\n",
    "&H_{z}=\\frac{M_{z} e^{i k r}}{4 \\pi r}\\left[k^{2}+\\frac{i k}{r}-\\frac{k^{2} z^{2}+1}{r^{2}}-\\frac{3 i k z^{2}}{r^{3}}+\\frac{3 z^{2}}{r^{4}}\\right]\n",
    "\\end{aligned}\n",
    "$$\n",
    "$$k=\\sqrt{i\\omega \\mu \\sigma}$$\n",
    "\n",
    "$\\mu = 4 \\pi 10^{-7},\\sigma=0.1,M_z=1,f=20K,Position=(0.5,0,1)$"
   ]
  },
  {
   "cell_type": "markdown",
   "metadata": {},
   "source": [
    "$IntegralMethod$\n",
    "$$\n",
    "\\left\\{\\begin{array}{l}\n",
    "E_{\\rho}=0 \\\\\n",
    "E_{\\varphi}=-\\frac{\\omega \\mu M_{z}}{4 \\pi} \\int_{0}^{+\\infty} \\frac{k_{\\rho}^{2}}{k_{z}} J_{1}\\left(k_{\\rho} \\rho\\right) e^{i|z| k_{z}} d k_{\\rho} \\\\\n",
    "E_{z}=0\n",
    "\\end{array}\\right.\n",
    "$$\n",
    "and\n",
    "$$\n",
    "\\left\\{\\begin{array}{l}\n",
    "H_{\\rho}=\\frac{M_{z}}{4 \\pi} \\int_{0}^{+\\infty} J_{1}\\left(k_{\\rho} \\rho\\right) k_{\\rho}^{2} \\frac{|z|}{z} e^{i|z| k_{z}} d k_{\\rho} \\\\\n",
    "H_{\\varphi}=0 \\\\\n",
    "H_{z}=\\frac{M_{z}}{4 \\pi} \\int_{0}^{+\\infty} J_{0}\\left(k_{\\rho} \\rho\\right) \\frac{i k_{\\rho}^{3}}{k_{z}} e^{i z \\mid k_{z}} d k_{\\rho}\n",
    "\\end{array}\\right.\n",
    "$$\n",
    "To get the Field value in cartesian coordinate system ,we should apply following transformation:\n",
    "$$\n",
    "\\left[\\begin{array}{l}\n",
    "\\mathbf{e}_{x} \\\\\n",
    "\\mathbf{e}_{y} \\\\\n",
    "\\mathbf{e}_{\\mathbf{z}}\n",
    "\\end{array}\\right]=\\left[\\begin{array}{ccc}\n",
    "\\cos \\varphi & -\\sin \\varphi & 0 \\\\\n",
    "\\sin \\varphi & \\cos \\varphi & 0 \\\\\n",
    "0 & 0 & 1\n",
    "\\end{array}\\right]\\left[\\begin{array}{l}\n",
    "\\mathbf{e}_{\\rho} \\\\\n",
    "\\mathbf{e}_{\\varphi} \\\\\n",
    "\\mathbf{e}_{\\mathbf{z}}\n",
    "\\end{array}\\right]\n",
    "$$\n",
    "\n",
    "$？？？How To Integrate?$"
   ]
  },
  {
   "cell_type": "markdown",
   "metadata": {},
   "source": [
    "$$LAPACK-Install$$\n",
    "\n",
    "解压LAPACK包，安装Cmake,generate 之后 在build文件夹make\n",
    "\n",
    "\n",
    "1.出现类似问题：Multiple definitions of '_gfortran_[...]' in Windows 参考http://icl.cs.utk.edu/lapack-forum/viewtopic.php?f=4&t=5315\n",
    "\n",
    "\n",
    "2.gfortran 编译 cannot find lapack 包 参考：https://www.jianshu.com/p/6fb9ec8a0b98"
   ]
  }
 ],
 "metadata": {
  "language_info": {
   "name": "python"
  },
  "orig_nbformat": 4
 },
 "nbformat": 4,
 "nbformat_minor": 2
}

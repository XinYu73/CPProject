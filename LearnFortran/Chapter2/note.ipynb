{
 "cells": [
  {
   "cell_type": "markdown",
   "metadata": {},
   "source": [
    "$$Note-For-Chapter2$$"
   ]
  },
  {
   "cell_type": "markdown",
   "metadata": {},
   "source": [
    "E:\\Quantum Information\\CODE\\.venv\\Scripts\\fortls.exe"
   ]
  },
  {
   "cell_type": "markdown",
   "metadata": {},
   "source": [
    "!Any variable names beginning with the letters i, j, k, l, m, or n are assumed to be of type INTEGER. Any variable names starting with another letter are assumed to be of type REAL.\n",
    "\n",
    "! A character constant is a string of characters enclosed in single (') or double (\") quotes\n",
    "\n",
    "!If a character string must include an apostrophe, then that apostrophe may be represented by two consecutive single quotes,e.g. 'man''s best friend.\n",
    "\n",
    "where 'len ' is the number of characters in the variables. The (len=len) portion of the statement is optional. If only a number appears in the parentheses, then the character variables declared by the statement are of that length. If the parentheses are entirely absent, then the character variables declared by the statement have length 1.\n",
    "\n",
    "!**     Exponentiation \n",
    "\n",
    "When an arithmetic operation is performed using two real numbers, its immediate result is of type real. Similarly, when an arithmetic operation is performed using two integers, the result is of type integer.\n",
    "In the case of an operation between a real number and an integer, the integer is converted by the computer into a real number, and real arith-metic is used on the numbers. The result is of type real.\n"
   ]
  },
  {
   "cell_type": "markdown",
   "metadata": {},
   "source": [
    "2.7 INTRINSIC FUNCTIONS\n",
    "\n",
    "2.8 LIST-DIRECTED INPUT AND OUTPUT STATEMENTS\n",
    "\n",
    "1.READ (*,*) input_list \n",
    "\n",
    ".If there is more than one variable in the list, they should be separated by commas.\n",
    "\n",
    ".first asterisk : read from the standard input device.\n",
    "\n",
    ".second asterisk : list -directed input\n",
    "\n",
    ".Each READ statement in a program begins reading from a new line of input data. If any data was left over on the previous input line, that data is discarded.\n",
    "\n",
    "2.WRITE (*,*) output_list \n",
    "\n",
    "2.9 INITIALIZATION OF VARIABLES \n",
    "\n",
    "1.type :: var1 = value, [var2 = value, ... ] \n",
    "\n",
    "2.10 THE IMPLICIT NONE STATEMENT\n",
    "\n",
    "2.11 PROGRAM EXAMPLES\n",
    "\n"
   ]
  }
 ],
 "metadata": {
  "language_info": {
   "name": "python"
  },
  "orig_nbformat": 4
 },
 "nbformat": 4,
 "nbformat_minor": 2
}

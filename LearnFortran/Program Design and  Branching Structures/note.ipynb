{
 "cells": [
  {
   "cell_type": "markdown",
   "metadata": {},
   "source": [
    "# Program Design and Branching Structures\n",
    "\n",
    "1/3 of the time is spent planning what to do (steps 1 through 3), 1/6 of the time is spent actually writing the program (step 4), and fully 1/2 of the time is spent in testing and debugging the program!\n",
    "\n",
    "## CONTROL CONSTRUCTS: BRANCHES\n"
   ]
  }
 ],
 "metadata": {
  "interpreter": {
   "hash": "f1974bcdc489015c5c3ed586a662fdf658cbc468ccb351dec60512520768eb8d"
  },
  "kernelspec": {
   "display_name": "Python 3.9.7 64-bit ('myenv': venv)",
   "name": "python3"
  },
  "language_info": {
   "codemirror_mode": {
    "name": "ipython",
    "version": 3
   },
   "file_extension": ".py",
   "mimetype": "text/x-python",
   "name": "python",
   "nbconvert_exporter": "python",
   "pygments_lexer": "ipython3",
   "version": "3.9.7"
  },
  "orig_nbformat": 4
 },
 "nbformat": 4,
 "nbformat_minor": 2
}

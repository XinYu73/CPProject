{
 "cells": [
  {
   "cell_type": "markdown",
   "metadata": {},
   "source": [
    "# Program Design and Branching Structures\n",
    "\n",
    "1/3 of the time is spent planning what to do (steps 1 through 3), 1/6 of the time is spent actually writing the program (step 4), and fully 1/2 of the time is spent in testing and debugging the program!\n",
    "\n",
    "## CONTROL CONSTRUCTS: BRANCHES\n"
   ]
  },
  {
   "cell_type": "code",
   "execution_count": 12,
   "metadata": {},
   "outputs": [
    {
     "name": "stdout",
     "output_type": "stream",
     "text": [
      " Enter the coefs of aX^2 + BX+C =0\n",
      " The coefs are :     1.00000000       5.00000000       9.00000000    \n",
      " X1 =   -2.50000000      +i    1.65831244    \n",
      " X2 =   -2.50000000      -i    1.65831244    \n"
     ]
    }
   ],
   "source": [
    "%%bash\n",
    "\n",
    "gfortran -o roots roots.f90\n",
    "./roots.exe\n",
    "1,5,9"
   ]
  }
 ],
 "metadata": {
  "interpreter": {
   "hash": "f1974bcdc489015c5c3ed586a662fdf658cbc468ccb351dec60512520768eb8d"
  },
  "kernelspec": {
   "display_name": "Python 3.9.7 64-bit ('myenv': venv)",
   "name": "python3"
  },
  "language_info": {
   "codemirror_mode": {
    "name": "ipython",
    "version": 3
   },
   "file_extension": ".py",
   "mimetype": "text/x-python",
   "name": "python",
   "nbconvert_exporter": "python",
   "pygments_lexer": "ipython3",
   "version": "3.9.7"
  },
  "orig_nbformat": 4
 },
 "nbformat": 4,
 "nbformat_minor": 2
}
